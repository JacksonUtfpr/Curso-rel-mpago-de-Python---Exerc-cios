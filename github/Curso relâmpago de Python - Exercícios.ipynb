{
 "cells": [
  {
   "cell_type": "markdown",
   "metadata": {},
   "source": [
    "# Curso relâmpago de Python - Exercícios\n",
    "\n",
    "Este é um exercício opcional para testar sua compreensão sobre o Python Basics. Se você achar isso extremamente desafiador, então você provavelmente ainda não está pronto para o resto deste curso e não tem experiência de programação suficiente para continuar. Eu sugiro que você faça outro curso mais orientado para iniciantes, como [Complete Python Bootcamp](https://www.udemy.com/complete-python-bootcamp)"
   ]
  },
  {
   "cell_type": "markdown",
   "metadata": {},
   "source": [
    "## Exercícios\n",
    "\n",
    "Responda as perguntas ou complete as tarefas descritas em negrito abaixo, use o método específico, se aplicável."
   ]
  },
  {
   "cell_type": "markdown",
   "metadata": {},
   "source": [
    "** Quanto é 7 elevado na potência 4?**"
   ]
  },
  {
   "cell_type": "code",
   "execution_count": 1,
   "metadata": {},
   "outputs": [
    {
     "name": "stdout",
     "output_type": "stream",
     "text": [
      "2401\n"
     ]
    }
   ],
   "source": [
    "print(7**4)"
   ]
  },
  {
   "cell_type": "markdown",
   "metadata": {},
   "source": [
    "** Quebre a seguinte string em uma lista:**\n",
    "\n",
    "    s = \"Olá, Pai!\""
   ]
  },
  {
   "cell_type": "code",
   "execution_count": 1,
   "metadata": {
    "collapsed": true
   },
   "outputs": [
    {
     "data": {
      "text/plain": [
       "['Olá,', 'Pai!']"
      ]
     },
     "execution_count": 1,
     "metadata": {},
     "output_type": "execute_result"
    }
   ],
   "source": [
    "s = \"Olá, Pai!\"\n",
    "s.split()"
   ]
  },
  {
   "cell_type": "code",
   "execution_count": 2,
   "metadata": {
    "scrolled": true
   },
   "outputs": [
    {
     "data": {
      "text/plain": [
       "['Olá,', 'Pai!']"
      ]
     },
     "execution_count": 2,
     "metadata": {},
     "output_type": "execute_result"
    }
   ],
   "source": [
    "\n"
   ]
  },
  {
   "attachments": {},
   "cell_type": "markdown",
   "metadata": {},
   "source": [
    "** Dada as variáveis:**\n",
    "\n",
    "    Planeta = \"Terra\"\n",
    "    Diametro = 12742\n",
    "\n",
    "** Use .format() para printar a seguinte frase: **\n",
    "\n",
    "     O diâmetro daterra é de 12742 kilômetros."
   ]
  },
  {
   "cell_type": "code",
   "execution_count": 7,
   "metadata": {
    "collapsed": true
   },
   "outputs": [
    {
     "name": "stdout",
     "output_type": "stream",
     "text": [
      "O diâmetro da Terra é de 12742 kilômetros.\n"
     ]
    }
   ],
   "source": [
    "planeta = \"Terra\"\n",
    "diametro = 12742\n",
    "text = \"O diâmetro da {planeta} é de {diametro} kilômetros.\"\n",
    "print(text.format(planeta = \"Terra\", diametro = 12742))"
   ]
  },
  {
   "cell_type": "code",
   "execution_count": 1,
   "metadata": {},
   "outputs": [
    {
     "name": "stdout",
     "output_type": "stream",
     "text": [
      "O diâmetro da terra é de 12742 kilômetros.\n"
     ]
    }
   ],
   "source": []
  },
  {
   "cell_type": "code",
   "execution_count": null,
   "metadata": {
    "collapsed": true
   },
   "outputs": [],
   "source": []
  },
  {
   "cell_type": "markdown",
   "metadata": {},
   "source": [
    "** Dada a lista abaixo, use indexação para obter apenas a string \"ola\". **"
   ]
  },
  {
   "cell_type": "code",
   "execution_count": 7,
   "metadata": {
    "collapsed": true
   },
   "outputs": [],
   "source": [
    "lst = [1,2,[3,4],[5,[100,200,['olá']],23,11],1,7]"
   ]
  },
  {
   "cell_type": "code",
   "execution_count": 16,
   "metadata": {},
   "outputs": [
    {
     "name": "stdout",
     "output_type": "stream",
     "text": [
      "olá\n"
     ]
    }
   ],
   "source": [
    "lst = [1,2,[3,4],[5,[100,200,['olá']],23,11],1,7]\n",
    "print(lst[3][1][2][0])\n"
   ]
  },
  {
   "cell_type": "code",
   "execution_count": null,
   "metadata": {
    "collapsed": true
   },
   "outputs": [],
   "source": []
  },
  {
   "cell_type": "markdown",
   "metadata": {},
   "source": [
    "** Dado o seguinte dicionário aninhado, extraia a palavra \"hello\" **"
   ]
  },
  {
   "cell_type": "code",
   "execution_count": 2,
   "metadata": {
    "collapsed": true
   },
   "outputs": [],
   "source": [
    "d = {'k1':[1,2,3,{'café':['banana','mulher','colher',{'alvo':[1,2,3,'olá']}]}]}\n"
   ]
  },
  {
   "cell_type": "code",
   "execution_count": 49,
   "metadata": {},
   "outputs": [
    {
     "name": "stdout",
     "output_type": "stream",
     "text": [
      "olá\n"
     ]
    }
   ],
   "source": [
    "d = {'k1':[1,2,3,{'café':['banana','mulher','colher',{'alvo':[1,2,3,'olá']}]}]}\n",
    "list = []\n",
    "list = d.get('k1')\n",
    "d2 = {}\n",
    "for i in range(0, len(list), 2):\n",
    "    d2 = {list[i]: list[i + 1]}\n",
    "# print(d2) \n",
    "d3 = d2.get(3)\n",
    "# print(d3)\n",
    "list2 = d3.get('café')\n",
    "# print(list2)\n",
    "list3 = list2[3:4]\n",
    "# print(list3, type(list3))\n",
    "# for j in range(0, len(list3)):\n",
    "#     d4 = {list3[j]: list3[j+1]}\n",
    "d4 = {}\n",
    "d4 = list3[0]\n",
    "# print(d4)\n",
    "list4 = d4.get('alvo')\n",
    "# print(list4)\n",
    "list5 = list4[3:]\n",
    "# print(list5)\n",
    "hello = list5[0]\n",
    "print(hello)"
   ]
  },
  {
   "cell_type": "markdown",
   "metadata": {},
   "source": [
    "** Qual a principal diferença entre um dicionário e uma tupla? **"
   ]
  },
  {
   "cell_type": "code",
   "execution_count": 3,
   "metadata": {
    "collapsed": true
   },
   "outputs": [],
   "source": [
    "Enquanto se pode adicionar, remover, fazer outras operações em dicionários, nas tuplas nada disso é possível. Tuplas são imutáveis."
   ]
  },
  {
   "cell_type": "markdown",
   "metadata": {},
   "source": [
    "** Construa uma função que retire o domínio dado um e-mail no seguinte formato: **\n",
    "\n",
    "    user@domain.com\n",
    "    \n",
    "**Por exemplo, passando como parâmetro \"user@domain.com\" retornaria: domain.com**"
   ]
  },
  {
   "cell_type": "code",
   "execution_count": 53,
   "metadata": {
    "collapsed": true
   },
   "outputs": [
    {
     "name": "stdout",
     "output_type": "stream",
     "text": [
      "['user', 'domain.com']\n",
      "domain.com\n"
     ]
    }
   ],
   "source": [
    "email = 'user@domain.com'\n",
    "list = email.split('@')\n",
    "# print(list)\n",
    "domain_list = list[1:2]\n",
    "# print(domain_list)\n",
    "domain = domain_list[0]\n",
    "print(domain)"
   ]
  },
  {
   "cell_type": "code",
   "execution_count": 54,
   "metadata": {},
   "outputs": [
    {
     "name": "stdout",
     "output_type": "stream",
     "text": [
      "domain.com\n"
     ]
    }
   ],
   "source": [
    "def obterDominio(email):\n",
    "    list = email.split('@')\n",
    "    # print(list)\n",
    "    domain_list = list[1:2]\n",
    "    # print(domain_list)\n",
    "    domain = domain_list[0]\n",
    "    print(domain)\n",
    "email = 'user@domain.com'\n",
    "obterDominio(email)"
   ]
  },
  {
   "cell_type": "markdown",
   "metadata": {},
   "source": [
    "** Crie uma função básica que retorna True se a palavra 'dog' estiver contida na string de entrada. Não se preocupe com os casos de extremos, como uma pontuação que está sendo anexada à palavra cão, mas que seja senível à caixa. **"
   ]
  },
  {
   "cell_type": "code",
   "execution_count": 67,
   "metadata": {
    "collapsed": true
   },
   "outputs": [
    {
     "data": {
      "text/plain": [
       "True"
      ]
     },
     "execution_count": 67,
     "metadata": {},
     "output_type": "execute_result"
    }
   ],
   "source": [
    "def encontreCachorro(phrase):\n",
    "    list = phrase.split()\n",
    "    # print(list)\n",
    "    for i in list:\n",
    "        if i == 'cachorro':\n",
    "            bool = True\n",
    "    return bool\n"
   ]
  },
  {
   "cell_type": "code",
   "execution_count": 68,
   "metadata": {},
   "outputs": [
    {
     "data": {
      "text/plain": [
       "True"
      ]
     },
     "execution_count": 68,
     "metadata": {},
     "output_type": "execute_result"
    }
   ],
   "source": [
    "phrase = 'Existe um cachorro aí?'\n",
    "encontreCachorro(phrase)"
   ]
  },
  {
   "cell_type": "markdown",
   "metadata": {},
   "source": [
    "** Crie uma função que conta o número de vezes que a palavra \"dog\" ocorre em uma string. Novamente ignore os casos extremos. **"
   ]
  },
  {
   "cell_type": "code",
   "execution_count": 90,
   "metadata": {
    "collapsed": true
   },
   "outputs": [],
   "source": [
    "def contaCachorro(phrase):\n",
    "    words = phrase.split()\n",
    "    # print(words)\n",
    "    # print(len(words))\n",
    "    count = 0\n",
    "    for i in words[0:]:\n",
    "        if i == 'cachorro':\n",
    "            count = count+1\n",
    "        else:\n",
    "            continue\n",
    "    print(count)"
   ]
  },
  {
   "cell_type": "code",
   "execution_count": 91,
   "metadata": {},
   "outputs": [
    {
     "name": "stdout",
     "output_type": "stream",
     "text": [
      "1\n"
     ]
    }
   ],
   "source": [
    "phrase = 'Esse cachorro é mais rápido que o outro cachorro.'\n",
    "contaCachorro(phrase)\n"
   ]
  },
  {
   "cell_type": "markdown",
   "metadata": {},
   "source": [
    "** Use expressões lambda e a função filter () para filtrar as palavras de uma lista que não começa com a letra 's'. Por exemplo: **\n",
    "\n",
    "    seq = ['sopa','cachorro','salada','gato','ótimo']\n",
    "\n",
    "** Deveria ser filtrado para:**\n",
    "\n",
    "    ['sopa','salada']"
   ]
  },
  {
   "cell_type": "code",
   "execution_count": 4,
   "metadata": {
    "collapsed": true
   },
   "outputs": [
    {
     "name": "stdout",
     "output_type": "stream",
     "text": [
      "<filter object at 0x000001DCD4CA3FA0>\n"
     ]
    }
   ],
   "source": [
    "seq = ['sopa','cachorro','salada','gato','ótimo']\n",
    "# filter(function, iterable)\n",
    "list = filter(lambda word:word.startswith('s'), seq)\n",
    "print(list)\n"
   ]
  },
  {
   "cell_type": "code",
   "execution_count": 8,
   "metadata": {},
   "outputs": [
    {
     "data": {
      "text/plain": [
       "['sopa', 'salada']"
      ]
     },
     "execution_count": 8,
     "metadata": {},
     "output_type": "execute_result"
    }
   ],
   "source": []
  },
  {
   "cell_type": "markdown",
   "metadata": {},
   "source": [
    "### Problema final\n",
    "** Você está dirigindo um pouco rápido demais, e um policial para você. Escreva uma função para retornar um dos 3 resultados possíveis: \"Sem multa\", \"Pequena multa\" ou \"Multa Grande\".\n",
    "   Se a sua velocidade for igual ou inferior a 60, o resultado é \"Sem multa\". Se a velocidade for entre 61 e 80 inclusive, o resultado é \"Multa Pequena\". Se a velocidade é de 81 ou mais, o resultado é \"Multa Grande\". A menos que seja seu aniversário (codificado como um valor booleano nos parâmetros da função) - em seu aniversário, sua velocidade pode ser 5 maior em todos os casos. **"
   ]
  },
  {
   "cell_type": "code",
   "execution_count": 5,
   "metadata": {
    "collapsed": true
   },
   "outputs": [],
   "source": [
    "def capturar_velocidade(speed, is_birthday):\n",
    "    if speed <= 60:\n",
    "        print('Sem multa')\n",
    "    elif speed <= 80:\n",
    "        print('Multa Pequena')\n",
    "    else:\n",
    "        if is_birthday:\n",
    "            pass\n",
    "        else:\n",
    "            print('Multa Grande')\n",
    "        "
   ]
  },
  {
   "cell_type": "markdown",
   "metadata": {},
   "source": []
  },
  {
   "cell_type": "code",
   "execution_count": 6,
   "metadata": {},
   "outputs": [
    {
     "name": "stdout",
     "output_type": "stream",
     "text": [
      "Multa Pequena\n"
     ]
    }
   ],
   "source": [
    "capturar_velocidade(65,False)"
   ]
  },
  {
   "cell_type": "code",
   "execution_count": 7,
   "metadata": {},
   "outputs": [
    {
     "name": "stdout",
     "output_type": "stream",
     "text": [
      "Multa Grande\n"
     ]
    }
   ],
   "source": [
    "capturar_velocidade(81,False)"
   ]
  },
  {
   "cell_type": "code",
   "execution_count": null,
   "metadata": {},
   "outputs": [],
   "source": []
  }
 ],
 "metadata": {
  "kernelspec": {
   "display_name": "Python 3",
   "language": "python",
   "name": "python3"
  },
  "language_info": {
   "codemirror_mode": {
    "name": "ipython",
    "version": 3
   },
   "file_extension": ".py",
   "mimetype": "text/x-python",
   "name": "python",
   "nbconvert_exporter": "python",
   "pygments_lexer": "ipython3",
   "version": "3.11.1"
  },
  "vscode": {
   "interpreter": {
    "hash": "816695f64e843a01086ff65515497130b9a07447a0d701039fda574fa38fe727"
   }
  }
 },
 "nbformat": 4,
 "nbformat_minor": 1
}
